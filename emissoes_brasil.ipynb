{
 "cells": [
  {
   "cell_type": "code",
   "execution_count": null,
   "id": "e330db6a",
   "metadata": {},
   "outputs": [],
   "source": [
    "import pandas as pd\n",
    "import json\n",
    "\n",
    "df_inventario = None\n",
    "\n",
    "df_empresas = pd.read_json('https://sistema-registropublicodeemissoes.fgv.br/public/organizations')\n",
    "\n",
    "_ids = df_empresas['_id'].unique()\n",
    "\n",
    "for _id in _ids:\n",
    "    conteudo_json = urlopen('https://sistema-registropublicodeemissoes.fgv.br/public/organizations/' + \n",
    "                            str(_id)).read().decode(\"utf-8\")\n",
    "    data_json = json.loads(conteudo_json)\n",
    "    \n",
    "    for inv in data_json['inventories']:\n",
    "        ano = inv['cycle']['inventory_year']\n",
    "        nome = inv['organization']['name']\n",
    "        cnpj = inv['organization']['cnpj']\n",
    "        tipo = inv['organization_cycle']['organization_type']\n",
    "    \n",
    "        df_emissoes = pd.json_normalize(inv['emissions'])\n",
    "        df_emissoes = df_emissoes[df_emissoes.computed==True].groupby(by=['scope', 'computed'], as_index=False).sum()\n",
    "        df_emissoes.insert(0, column='Nome', value=nome)\n",
    "        df_emissoes.insert(0, column='CNPJ', value=cnpj)\n",
    "        df_emissoes.insert(0, column='Tipo', value=tipo)\n",
    "        df_emissoes.insert(0, column='Ano', value=ano)\n",
    "\n",
    "        df_emissoes.rename(columns={'scope': 'Escopo', 'value': 'tonCO2eq'}, inplace=True)\n",
    "        del df_emissoes['computed']\n",
    "        del df_emissoes['gas_id']\n",
    "    \n",
    "        if df_inventario is None:\n",
    "            df_inventario = df_emissoes\n",
    "        else:\n",
    "            df_inventario = pd.concat([df_inventario, df_emissoes ])\n",
    "    \n",
    "    \n",
    "    \n",
    "    \n",
    "        "
   ]
  },
  {
   "cell_type": "code",
   "execution_count": null,
   "id": "23541e90",
   "metadata": {},
   "outputs": [],
   "source": [
    "df_inventario.to_excel('inventario.xlsx', index=False)"
   ]
  },
  {
   "cell_type": "code",
   "execution_count": null,
   "id": "9a4a81d4",
   "metadata": {},
   "outputs": [],
   "source": []
  }
 ],
 "metadata": {
  "kernelspec": {
   "display_name": "Python 3 (ipykernel)",
   "language": "python",
   "name": "python3"
  },
  "language_info": {
   "codemirror_mode": {
    "name": "ipython",
    "version": 3
   },
   "file_extension": ".py",
   "mimetype": "text/x-python",
   "name": "python",
   "nbconvert_exporter": "python",
   "pygments_lexer": "ipython3",
   "version": "3.9.13"
  }
 },
 "nbformat": 4,
 "nbformat_minor": 5
}
